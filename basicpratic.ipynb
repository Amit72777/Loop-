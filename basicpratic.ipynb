{
 "cells": [
  {
   "cell_type": "code",
   "execution_count": 1,
   "metadata": {},
   "outputs": [
    {
     "name": "stdout",
     "output_type": "stream",
     "text": [
      "before swaping a= 5,b = 3\n",
      "after swaping a= 3,b = 5\n"
     ]
    }
   ],
   "source": [
    "# Q:1 Swap two number without using third variable \n",
    "a = int(input(\"Enter the two variable \")) #5\n",
    "b = int(input(\"Enter the third variable\")) #3 \n",
    "print(f\"before swaping a= {a},b = {b}\")\n",
    "a = a+b # 5+3 \n",
    "b = a-b # 8 - 3 \n",
    "a =  a - b \n",
    "print(f\"after swaping a= {a},b = {b}\")\n",
    "\n"
   ]
  },
  {
   "cell_type": "code",
   "execution_count": 2,
   "metadata": {},
   "outputs": [
    {
     "name": "stdout",
     "output_type": "stream",
     "text": [
      "1 2 3 "
     ]
    }
   ],
   "source": [
    "#Q 2: write a programm to extract each other digit from an integer in the reverse order\n",
    "a = input(\"Enter the number\")\n",
    "for i in range(len(a)) :\n",
    "    print(a[i],end = \" \")"
   ]
  },
  {
   "cell_type": "code",
   "execution_count": 3,
   "metadata": {},
   "outputs": [
    {
     "name": "stdout",
     "output_type": "stream",
     "text": [
      "10\n"
     ]
    }
   ],
   "source": [
    "#Q 3:  write a programm that will give you the sum of digit \n",
    "a = input(\"Enter the number \")\n",
    "sum = 0 \n",
    "for i in range(len(a)):\n",
    "    sum +=int(a[i])\n",
    "print(sum)"
   ]
  },
  {
   "cell_type": "code",
   "execution_count": 1,
   "metadata": {},
   "outputs": [
    {
     "name": "stdout",
     "output_type": "stream",
     "text": [
      "The number89 is not divisible by 3 and  6 \n"
     ]
    }
   ],
   "source": [
    "#Q 4 : write a programm that whether the given number is divisible by 3&6\n",
    "num = int(input(\"Enter the number :\"))\n",
    "if(num%3==0 and num%6 == 0 ):\n",
    "    print(f\"The number{num} is divisibe by 3 and  6 \")\n",
    "else : \n",
    "    print(f\"The number{num} is not divisible by 3 and  6 \")\n"
   ]
  },
  {
   "cell_type": "code",
   "execution_count": null,
   "metadata": {},
   "outputs": [
    {
     "name": "stdout",
     "output_type": "stream",
     "text": [
      "The sum of square of each digit is  14\n"
     ]
    }
   ],
   "source": [
    "#Q 5:  write a programm that will take  digit from the user and add the square of each digit \n",
    "a = input(\"Enter the Number:\")\n",
    "sum =0\n",
    "for i in a:\n",
    "    sum+=int(i)**2\n",
    "print(f\"The sum of square of each digit is \",sum)"
   ]
  },
  {
   "cell_type": "code",
   "execution_count": null,
   "metadata": {},
   "outputs": [
    {
     "name": "stdout",
     "output_type": "stream",
     "text": [
      "1 is  armstrong number\n",
      "153 is  armstrong number\n",
      "370 is  armstrong number\n",
      "371 is  armstrong number\n",
      "407 is  armstrong number\n"
     ]
    }
   ],
   "source": [
    "# Q 6  : Write a program that checks up to the nth number which ones are Armstrong numbers and which ones are not\n",
    "n = int(input(\"Enter the number :\"))\n",
    "\n",
    "for i in range(1,n+1):\n",
    "    num = i\n",
    "    sum = 0\n",
    "    while num>0:\n",
    "        rem= num%10\n",
    "\n",
    "        sum = rem**3 + sum\n",
    "        num = num//10\n",
    "\n",
    "    if i == sum :\n",
    "        print(f\"{i} is  armstrong number\")\n",
    "\n"
   ]
  },
  {
   "cell_type": "code",
   "execution_count": 2,
   "metadata": {},
   "outputs": [
    {
     "name": "stdout",
     "output_type": "stream",
     "text": [
      "the facor are :-  1 ,2 ,3 ,4 ,6 ,"
     ]
    }
   ],
   "source": [
    "#Q:7 print all the factore of a given number a provide by user \n",
    "num = int(input(\"Enter the numver \"))\n",
    "i = 1\n",
    "print(\"the facor are :- \",end = \" \")\n",
    "while i <= num//2+1:\n",
    "    if num%i ==0 :\n",
    "        print(i,end=\" ,\")\n",
    "    i+=1"
   ]
  },
  {
   "cell_type": "code",
   "execution_count": 4,
   "metadata": {},
   "outputs": [
    {
     "name": "stdout",
     "output_type": "stream",
     "text": [
      "1 2 3 4 5 6 7 8 9 10 \n",
      "\n",
      "2 4 6 8 10 12 14 16 18 20 \n",
      "\n",
      "3 6 9 12 15 18 21 24 27 30 \n",
      "\n",
      "4 8 12 16 20 24 28 32 36 40 \n",
      "\n",
      "5 10 15 20 25 30 35 40 45 50 \n",
      "\n",
      "6 12 18 24 30 36 42 48 54 60 \n",
      "\n",
      "7 14 21 28 35 42 49 56 63 70 \n",
      "\n",
      "8 16 24 32 40 48 56 64 72 80 \n",
      "\n",
      "9 18 27 36 45 54 63 72 81 90 \n",
      "\n",
      "10 20 30 40 50 60 70 80 90 100 \n",
      "\n"
     ]
    }
   ],
   "source": [
    "#Q 8 :  question print table 1 to 10 \n",
    "for i in range(1,11):\n",
    "    for j in range(i,i*10 +1,i):\n",
    "        print(j,end = ' ')\n",
    "    print(\"\\n\")"
   ]
  },
  {
   "cell_type": "code",
   "execution_count": 4,
   "metadata": {},
   "outputs": [
    {
     "name": "stdout",
     "output_type": "stream",
     "text": [
      "60\n"
     ]
    }
   ],
   "source": [
    "# Q9:- write a programm that can multiply 2 numbers provided by the user without using the * opertor\n",
    "a1 = int(input(\"Enter the first number\"))\n",
    "a2 = int(input(\"Enter tehe second number\"))\n",
    "mul = 0 \n",
    "for i in range(a2):\n",
    "    mul = a1 + mul\n",
    "\n",
    "print(mul)\n"
   ]
  },
  {
   "cell_type": "code",
   "execution_count": 5,
   "metadata": {},
   "outputs": [
    {
     "name": "stdout",
     "output_type": "stream",
     "text": [
      "the 5 digit in 12345number \n"
     ]
    }
   ],
   "source": [
    "#Q:-10 write3 a programm to count a total number of digits in a number using while loop\n",
    "a = input(\"Enter the number \")\n",
    "count = len(a)\n",
    "print(\"the {} digit in {}  number \".format(count , a))"
   ]
  },
  {
   "cell_type": "markdown",
   "metadata": {},
   "source": [
    "Q: 11 print the pattern \n",
    "1\n",
    "1 2 \n",
    "1 2 3\n",
    "1 2 3 4"
   ]
  },
  {
   "cell_type": "code",
   "execution_count": 10,
   "metadata": {},
   "outputs": [
    {
     "name": "stdout",
     "output_type": "stream",
     "text": [
      "1 \n",
      "\n",
      "1 2 \n",
      "\n",
      "1 2 3 \n",
      "\n",
      "1 2 3 4 \n",
      "\n",
      "1 2 3 4 5 \n",
      "\n"
     ]
    }
   ],
   "source": [
    "n = int(input(\"Enter the size of pattern \"))\n",
    "for i in range(1,n+1):\n",
    "    for j in range(1,i+1):\n",
    "        print( j , end = \" \")\n",
    "    print(\"\\n\")"
   ]
  },
  {
   "cell_type": "markdown",
   "metadata": {},
   "source": [
    "Q 12: Write a program to display all prime numbers within a range\n"
   ]
  },
  {
   "cell_type": "code",
   "execution_count": 2,
   "metadata": {},
   "outputs": [
    {
     "name": "stdout",
     "output_type": "stream",
     "text": [
      "2 is prime number \n",
      "3 is prime number \n",
      "5 is prime number \n",
      "7 is prime number \n",
      "11 is prime number \n",
      "13 is prime number \n",
      "17 is prime number \n",
      "19 is prime number \n"
     ]
    }
   ],
   "source": [
    "n = int(input(\"Enter the number \"))\n",
    "\n",
    "for i in range(1,n+1):\n",
    "    j = 1\n",
    "    ck =0 \n",
    "    while j<= i:\n",
    "        if i%j == 0:\n",
    "            ck+=1 \n",
    "        j= j + 1\n",
    "        \n",
    "    if ck == 2:\n",
    "        print(f\"{i } is prime number \")\n",
    "    \n"
   ]
  },
  {
   "cell_type": "markdown",
   "metadata": {},
   "source": [
    "Q: 13 wriete a programm to check if the given number is a palinddrome number:"
   ]
  },
  {
   "cell_type": "code",
   "execution_count": 6,
   "metadata": {},
   "outputs": [
    {
     "name": "stdout",
     "output_type": "stream",
     "text": [
      "This number is pallinddrom \n"
     ]
    }
   ],
   "source": [
    "num = input(\"Enter the number \") # enter the number \n",
    "\n",
    "if num == num[::-1]:\n",
    "    print(\"This number is pallinddrom \")\n",
    "else :\n",
    "    print(\"This number is not pallindrome \")"
   ]
  },
  {
   "cell_type": "markdown",
   "metadata": {},
   "source": [
    "Q:14 wrie a progrm to print a pattern "
   ]
  },
  {
   "cell_type": "code",
   "execution_count": 10,
   "metadata": {},
   "outputs": [
    {
     "name": "stdout",
     "output_type": "stream",
     "text": [
      "* \n",
      "\n",
      "* * \n",
      "\n",
      "* * * \n",
      "\n",
      "* * * * \n",
      "\n",
      "* * * * * \n",
      "\n",
      "* * * * \n",
      "\n",
      "* * * \n",
      "\n",
      "* * \n",
      "\n",
      "* \n",
      "\n"
     ]
    }
   ],
   "source": [
    "num = int(input(\"Enter the number :\"))\n",
    "a = 1\n",
    "for i in range(1,2*num):\n",
    "    for j in range(a):\n",
    "        print(\"*\",end = \" \")\n",
    "    print(\"\\n\")\n",
    "    if i< num : a+=1\n",
    "    else : a-=1\n",
    "    "
   ]
  }
 ],
 "metadata": {
  "kernelspec": {
   "display_name": "Python 3",
   "language": "python",
   "name": "python3"
  },
  "language_info": {
   "codemirror_mode": {
    "name": "ipython",
    "version": 3
   },
   "file_extension": ".py",
   "mimetype": "text/x-python",
   "name": "python",
   "nbconvert_exporter": "python",
   "pygments_lexer": "ipython3",
   "version": "3.11.6"
  }
 },
 "nbformat": 4,
 "nbformat_minor": 2
}
