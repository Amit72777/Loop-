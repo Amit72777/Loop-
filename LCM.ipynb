{
 "cells": [
  {
   "cell_type": "code",
   "execution_count": 1,
   "metadata": {},
   "outputs": [
    {
     "name": "stdout",
     "output_type": "stream",
     "text": [
      " the factor are  [2, 2, 3]\n"
     ]
    }
   ],
   "source": [
    "# LCM of single number \n",
    "num = int(input(\"Enter the Number :\"))\n",
    "i = 2 \n",
    "a = []\n",
    "while num!=1 :\n",
    "    if num%i == 0 :\n",
    "        a.append(i)\n",
    "        num = num//i\n",
    "\n",
    "    else :\n",
    "        i= i+1\n",
    "\n",
    "\n",
    "print(\" the factor are \" ,a)\n"
   ]
  },
  {
   "cell_type": "markdown",
   "metadata": {},
   "source": []
  },
  {
   "cell_type": "code",
   "execution_count": 32,
   "metadata": {},
   "outputs": [
    {
     "name": "stdout",
     "output_type": "stream",
     "text": [
      "the LCM of number is : 68\n",
      "the factor of both number is =  [2, 2, 17]\n"
     ]
    }
   ],
   "source": [
    "# LCM of two nubmers \n",
    "num1 = int(input(\"Enter the first number :\"))\n",
    "num2 = int(input(\"Enter teh second number :\"))\n",
    "a = []\n",
    "i = 2\n",
    "LCM = 1 \n",
    "t=0\n",
    "while (num1!= 1 or  num2 != 1 ):\n",
    "    f1 = False\n",
    "    f2 = False\n",
    "    t+=1\n",
    "    if num1%i == 0:\n",
    "        f1 = True\n",
    "        num1=num1//i\n",
    "    if num2%i ==0:\n",
    "        f2 = True\n",
    "        num2=num2//i\n",
    "    if f1==True or f2 == True:\n",
    "        a.append(i)\n",
    "        LCM = LCM * i \n",
    "    else:\n",
    "        i+=1\n",
    "\n",
    "\n",
    "\n",
    "print(\"the LCM of number is :\",LCM)\n",
    "print(\"the factor of both number is = \",a)"
   ]
  },
  {
   "cell_type": "code",
   "execution_count": null,
   "metadata": {},
   "outputs": [],
   "source": []
  }
 ],
 "metadata": {
  "kernelspec": {
   "display_name": "Python 3",
   "language": "python",
   "name": "python3"
  },
  "language_info": {
   "codemirror_mode": {
    "name": "ipython",
    "version": 3
   },
   "file_extension": ".py",
   "mimetype": "text/x-python",
   "name": "python",
   "nbconvert_exporter": "python",
   "pygments_lexer": "ipython3",
   "version": "3.11.6"
  }
 },
 "nbformat": 4,
 "nbformat_minor": 2
}
